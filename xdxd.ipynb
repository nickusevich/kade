{
 "cells": [
  {
   "cell_type": "code",
   "execution_count": null,
   "metadata": {},
   "outputs": [],
   "source": []
  },
  {
   "cell_type": "code",
   "execution_count": null,
   "metadata": {},
   "outputs": [],
   "source": [
    "# Constants for threshold adjustments\n",
    "vertical_threshold = 10  # Distance for above/below checks\n",
    "\n",
    "# Example lists for text positions and their coordinates\n",
    "# Replace these with actual data from your detection logic\n",
    "texts = [\"text1\", \"text2\", \"text3\"]  # Detected text\n",
    "text_coordinates = [\n",
    "    (15, 50),  # Center of text1 (x, y)\n",
    "    (5, 70),   # Center of text2 (x, y)\n",
    "    (25, 30)   # Center of text3 (x, y)\n",
    "]\n",
    "\n",
    "# Iterate through all detected text\n",
    "for i, (text, (x_text, y_text)) in enumerate(zip(texts, text_coordinates)):\n",
    "\n",
    "    # Check for matches on the left\n",
    "    if x_min_symbol - 1 <= x_text < x_min_symbol and y_min_symbol <= y_text <= y_max_symbol:\n",
    "        print(f\"Text '{text}' found on the left within bounds.\")\n",
    "\n",
    "    # Check for matches on the right\n",
    "    if x_max_symbol <= x_text < x_max_symbol + 1 and y_min_symbol <= y_text <= y_max_symbol:\n",
    "        print(f\"Text '{text}' found on the right within bounds.\")\n",
    "\n",
    "    # Check for matches above (limited vertical range)\n",
    "    if (x_min_symbol <= x_text <= x_max_symbol and y_min_symbol - vertical_threshold <= y_text < y_min_symbol) or (x_min_symbol <= x_text <= x_max_symbol and y_max_symbol < y_text <= y_max_symbol + vertical_threshold):\n",
    "        print(f\"Text '{text}' found above within vertical threshold.\")\n",
    "\n"
   ]
  },
  {
   "cell_type": "code",
   "execution_count": null,
   "metadata": {},
   "outputs": [],
   "source": []
  }
 ],
 "metadata": {
  "kernelspec": {
   "display_name": "kda",
   "language": "python",
   "name": "python3"
  },
  "language_info": {
   "name": "python",
   "version": "3.9.20"
  }
 },
 "nbformat": 4,
 "nbformat_minor": 2
}
