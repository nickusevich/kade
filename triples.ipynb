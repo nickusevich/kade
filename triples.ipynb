{
 "cells": [
  {
   "cell_type": "code",
   "execution_count": 14,
   "metadata": {},
   "outputs": [],
   "source": [
    "import pandas as pd\n",
    "import os"
   ]
  },
  {
   "cell_type": "code",
   "execution_count": null,
   "metadata": {},
   "outputs": [],
   "source": [
    "movies_data = pd.read_csv(\"Datasets/english_movies_2024_2024_detailed.csv\")"
   ]
  },
  {
   "cell_type": "code",
   "execution_count": null,
   "metadata": {},
   "outputs": [],
   "source": [
    "def create_triples(dataframe: pd.DataFrame, output_dir: str = \"\") -> None:\n",
    "    \"\"\"\n",
    "    Create triples from a pandas DataFrame and save them as CSV files.\n",
    "\n",
    "    Args:\n",
    "        dataframe (pd.DataFrame): Input DataFrame containing the data.\n",
    "        output_dir (str): Directory to save the output CSV files. Defaults to \"\".\n",
    "\n",
    "    Returns:\n",
    "        None\n",
    "    \"\"\" \n",
    "\n",
    "    os.makedirs(output_dir, exist_ok=True)\n",
    "\n",
    "    for column in movies_data.columns:\n",
    "        if column == 'movie_uri':\n",
    "            continue\n",
    "    \n",
    "        expanded_rows = []\n",
    "        \n",
    "        for _, row in movies_data.iterrows():\n",
    "            objects = str(row[column]).split(';')  \n",
    "            for obj in objects:\n",
    "                expanded_rows.append({\n",
    "                    'subject': row['movie_uri'],  \n",
    "                    'predicate': column,         \n",
    "                    'object': obj.strip() \n",
    "                })\n",
    "\n",
    "\n",
    "        triples_df = pd.DataFrame(expanded_rows)\n",
    "        output_path = os.path.join(output_dir, f\"{column}.csv\")\n",
    "        triples_df.to_csv(output_path, index=False)\n",
    "\n",
    "    print(f\"CSVs with expanded rows have been created in the directory: {output_dir}\")\n",
    "\n",
    "create_triples(dataframe=movies_data, output_dir='Dataset_triples')"
   ]
  }
 ],
 "metadata": {
  "kernelspec": {
   "display_name": "kda",
   "language": "python",
   "name": "python3"
  },
  "language_info": {
   "codemirror_mode": {
    "name": "ipython",
    "version": 3
   },
   "file_extension": ".py",
   "mimetype": "text/x-python",
   "name": "python",
   "nbconvert_exporter": "python",
   "pygments_lexer": "ipython3",
   "version": "3.9.20"
  }
 },
 "nbformat": 4,
 "nbformat_minor": 2
}
