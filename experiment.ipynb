{
 "cells": [
  {
   "cell_type": "code",
   "execution_count": 15,
   "metadata": {},
   "outputs": [],
   "source": [
    "from dash import Dash, html, dcc, Input, Output, State, callback\n",
    "import requests\n",
    "import dash\n",
    "from dash.exceptions import PreventUpdate\n",
    "from urllib.parse import urlencode, parse_qs\n",
    "import os\n",
    "from RestService import MovieDatabase\n",
    "\n",
    "\n",
    "'Robert Downey Jr.'\n",
    "\n",
    "movie_db = MovieDatabase()\n",
    "\n",
    "result = await movie_db.fetch_movies_by_properties(actor='Robert Downey Jr.')\n"
   ]
  },
  {
   "cell_type": "code",
   "execution_count": 16,
   "metadata": {},
   "outputs": [
    {
     "data": {
      "text/plain": [
       "[{'object_uri': 'http://dbpedia.org/resource/%22Sr.%22', 'label': '\"Sr.\"'},\n",
       " {'object_uri': 'http://dbpedia.org/resource/A_Guide_to_Recognizing_Your_Saints',\n",
       "  'label': 'A Guide to Recognizing Your Saints'},\n",
       " {'object_uri': 'http://dbpedia.org/resource/Avengers:_Age_of_Ultron',\n",
       "  'label': 'Avengers: Age of Ultron'},\n",
       " {'object_uri': 'http://dbpedia.org/resource/Avengers:_Endgame',\n",
       "  'label': 'Avengers: Endgame'},\n",
       " {'object_uri': 'http://dbpedia.org/resource/Avengers:_Infinity_War',\n",
       "  'label': 'Avengers: Infinity War'},\n",
       " {'object_uri': 'http://dbpedia.org/resource/Captain_America:_Civil_War',\n",
       "  'label': 'Captain America: Civil War'},\n",
       " {'object_uri': 'http://dbpedia.org/resource/Gothika', 'label': 'Gothika'},\n",
       " {'object_uri': 'http://dbpedia.org/resource/Hugo_Pool', 'label': 'Hugo Pool'},\n",
       " {'object_uri': 'http://dbpedia.org/resource/In_Dreams_%28film%29',\n",
       "  'label': 'In Dreams (film)'},\n",
       " {'object_uri': 'http://dbpedia.org/resource/Iron_Man_%282008_film%29',\n",
       "  'label': 'Iron Man (2008 film)'},\n",
       " {'object_uri': 'http://dbpedia.org/resource/Iron_Man_2',\n",
       "  'label': 'Iron Man 2'},\n",
       " {'object_uri': 'http://dbpedia.org/resource/Iron_Man_3',\n",
       "  'label': 'Iron Man 3'},\n",
       " {'object_uri': 'http://dbpedia.org/resource/Oppenheimer_%28film%29',\n",
       "  'label': 'Oppenheimer (film)'},\n",
       " {'object_uri': 'http://dbpedia.org/resource/Richard_III_%281995_film%29',\n",
       "  'label': 'Richard III (1995 film)'},\n",
       " {'object_uri': 'http://dbpedia.org/resource/Sherlock_Holmes:_A_Game_of_Shadows',\n",
       "  'label': 'Sherlock Holmes: A Game of Shadows'},\n",
       " {'object_uri': 'http://dbpedia.org/resource/Sherlock_Holmes_%282009_film%29',\n",
       "  'label': 'Sherlock Holmes (2009 film)'},\n",
       " {'object_uri': 'http://dbpedia.org/resource/The_Avengers_%282012_film%29',\n",
       "  'label': 'The Avengers (2012 film)'},\n",
       " {'object_uri': 'http://dbpedia.org/resource/The_Soloist',\n",
       "  'label': 'The Soloist'}]"
      ]
     },
     "execution_count": 16,
     "metadata": {},
     "output_type": "execute_result"
    }
   ],
   "source": [
    "result"
   ]
  }
 ],
 "metadata": {
  "kernelspec": {
   "display_name": "kda",
   "language": "python",
   "name": "python3"
  },
  "language_info": {
   "codemirror_mode": {
    "name": "ipython",
    "version": 3
   },
   "file_extension": ".py",
   "mimetype": "text/x-python",
   "name": "python",
   "nbconvert_exporter": "python",
   "pygments_lexer": "ipython3",
   "version": "3.9.20"
  }
 },
 "nbformat": 4,
 "nbformat_minor": 2
}
