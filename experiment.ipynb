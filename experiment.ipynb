{
 "cells": [
  {
   "cell_type": "code",
   "execution_count": 36,
   "metadata": {},
   "outputs": [],
   "source": [
    "from dash import Dash, html, dcc, Input, Output, State, callback\n",
    "import requests\n",
    "import dash\n",
    "from dash.exceptions import PreventUpdate\n",
    "from urllib.parse import urlencode, parse_qs\n",
    "import os\n",
    "from RestService import MovieDatabase\n",
    "\n",
    "import asyncio\n",
    "\n",
    "\n",
    "movie_db = MovieDatabase()\n",
    "\n",
    "result = await movie_db.fetch_movies_by_properties(director='Christopher Nolan')\n"
   ]
  },
  {
   "cell_type": "code",
   "execution_count": 37,
   "metadata": {},
   "outputs": [
    {
     "data": {
      "text/plain": [
       "[{'object_uri': 'http://dbpedia.org/resource/Batman_Begins',\n",
       "  'label': 'Batman Begins'},\n",
       " {'object_uri': 'http://dbpedia.org/resource/Dunkirk_%282017_film%29',\n",
       "  'label': 'Dunkirk (2017 film)'},\n",
       " {'object_uri': 'http://dbpedia.org/resource/Inception', 'label': 'Inception'},\n",
       " {'object_uri': 'http://dbpedia.org/resource/Interstellar_%28film%29',\n",
       "  'label': 'Interstellar (film)'},\n",
       " {'object_uri': 'http://dbpedia.org/resource/Memento_%28film%29',\n",
       "  'label': 'Memento (film)'},\n",
       " {'object_uri': 'http://dbpedia.org/resource/Oppenheimer_%28film%29',\n",
       "  'label': 'Oppenheimer (film)'},\n",
       " {'object_uri': 'http://dbpedia.org/resource/Tenet_%28film%29',\n",
       "  'label': 'Tenet (film)'},\n",
       " {'object_uri': 'http://dbpedia.org/resource/The_Dark_Knight',\n",
       "  'label': 'The Dark Knight'},\n",
       " {'object_uri': 'http://dbpedia.org/resource/The_Dark_Knight_Rises',\n",
       "  'label': 'The Dark Knight Rises'},\n",
       " {'object_uri': 'http://dbpedia.org/resource/The_Prestige_%28film%29',\n",
       "  'label': 'The Prestige (film)'}]"
      ]
     },
     "execution_count": 37,
     "metadata": {},
     "output_type": "execute_result"
    }
   ],
   "source": [
    "result"
   ]
  }
 ],
 "metadata": {
  "kernelspec": {
   "display_name": "kda",
   "language": "python",
   "name": "python3"
  },
  "language_info": {
   "codemirror_mode": {
    "name": "ipython",
    "version": 3
   },
   "file_extension": ".py",
   "mimetype": "text/x-python",
   "name": "python",
   "nbconvert_exporter": "python",
   "pygments_lexer": "ipython3",
   "version": "3.9.20"
  }
 },
 "nbformat": 4,
 "nbformat_minor": 2
}
